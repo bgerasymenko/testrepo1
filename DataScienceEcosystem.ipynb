{
 "cells": [
  {
   "cell_type": "markdown",
   "id": "dc572491-ae8f-4d8e-908d-9155563fcd54",
   "metadata": {},
   "source": [
    "# Data Science Tools and Ecosystem"
   ]
  },
  {
   "cell_type": "markdown",
   "id": "8eb965bd-5144-435a-91d0-d20f91b87033",
   "metadata": {},
   "source": [
    "In this notebook, Data Science Tools and Ecosystem are summarized."
   ]
  },
  {
   "cell_type": "markdown",
   "id": "b3c9ee06-6c2a-48c2-b88e-b974fff9a84e",
   "metadata": {},
   "source": [
    "### Objectives\n",
    "\n",
    "- List popular languages for Data Science\n",
    "- List popular libraries for Data Science\n",
    "- List open source tools for Data Science"
   ]
  },
  {
   "cell_type": "markdown",
   "id": "f9a2a364-9547-489b-83f4-8c13d977eefb",
   "metadata": {},
   "source": [
    "Some of the popular languages that Data Scientists use are:\n",
    "\n",
    "- Python\n",
    "- R\n",
    "- Scala"
   ]
  },
  {
   "cell_type": "markdown",
   "id": "d70a667d-9ebe-4abe-904b-a26b5cd77d37",
   "metadata": {},
   "source": [
    "Some of the commonly used libraries used by Data Scientists include:\n",
    "\n",
    "1. NumPy\n",
    "2. TensorFlow\n",
    "3. Pandas\n",
    "4. Scikit-learn\n",
    "5. Matplotlib"
   ]
  },
  {
   "cell_type": "markdown",
   "id": "9240bb7a-5497-400e-95d6-8906d66e7685",
   "metadata": {},
   "source": [
    "| Data Science Tools    |\n",
    "|-----------------------|\n",
    "| Jupyter Notebook      |\n",
    "| RStudio               |\n",
    "| Anaconda Navigator    |"
   ]
  },
  {
   "cell_type": "markdown",
   "id": "557a9a4a-66e3-480e-9738-e63cea74a349",
   "metadata": {},
   "source": [
    "### Below are a few examples of evaluating arithmetic expressions in Python"
   ]
  },
  {
   "cell_type": "code",
   "execution_count": 6,
   "id": "a9a855ba-e0d3-4ede-b43e-7e3fe3bc8876",
   "metadata": {},
   "outputs": [
    {
     "data": {
      "text/plain": [
       "17"
      ]
     },
     "execution_count": 6,
     "metadata": {},
     "output_type": "execute_result"
    }
   ],
   "source": [
    "#This a simple arithmetic expression to mutiply then add integers\n",
    "(3*4)+5"
   ]
  },
  {
   "cell_type": "code",
   "execution_count": 7,
   "id": "bb769465-8016-431d-a0f1-08cab608e2cf",
   "metadata": {},
   "outputs": [
    {
     "name": "stdout",
     "output_type": "stream",
     "text": [
      "200 minutes is equal to 3.3333333333333335 hours\n"
     ]
    }
   ],
   "source": [
    "#8-multiplyandaddintegers\n",
    "minutes = 200\n",
    "hours = minutes / 60\n",
    "print(\"200 minutes is equal to\", hours, \"hours\")"
   ]
  },
  {
   "cell_type": "markdown",
   "id": "299298f8-e1ab-486e-9825-bc64cdf8a4c0",
   "metadata": {},
   "source": [
    "## Author\n",
    "Bogdan Gerasymenko"
   ]
  },
  {
   "cell_type": "code",
   "execution_count": null,
   "id": "c5d01d13-48d1-4937-bde5-29eb705f5cf5",
   "metadata": {},
   "outputs": [],
   "source": []
  }
 ],
 "metadata": {
  "kernelspec": {
   "display_name": "Python 3 (ipykernel)",
   "language": "python",
   "name": "python3"
  },
  "language_info": {
   "codemirror_mode": {
    "name": "ipython",
    "version": 3
   },
   "file_extension": ".py",
   "mimetype": "text/x-python",
   "name": "python",
   "nbconvert_exporter": "python",
   "pygments_lexer": "ipython3",
   "version": "3.8.2"
  }
 },
 "nbformat": 4,
 "nbformat_minor": 5
}
